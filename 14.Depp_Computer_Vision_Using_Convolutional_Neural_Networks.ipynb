{
 "cells": [
  {
   "cell_type": "markdown",
   "metadata": {},
   "source": [
    "## The architecture of Visual Cortex"
   ]
  },
  {
   "cell_type": "markdown",
   "metadata": {},
   "source": [
    "Many neurons in the visual cortex have a small *local receptive field*, meaning they react only to visual simuli located in a limited region of the visual field (In the picture below, the local receptive fields of five neurons are represented by dashed circle)\n",
    "\n",
    "![local_receptive_field](local_receptive_field.png)"
   ]
  },
  {
   "cell_type": "markdown",
   "metadata": {},
   "source": [
    "## Convolutional Layers"
   ]
  },
  {
   "cell_type": "markdown",
   "metadata": {},
   "source": [
    "The most important building block of a CNN is the *convolutional layer*: neurons on the first convolutional layer are not connected to every single pixel in the input image, but only to pixels in their receptive fields. In turn, each neuron in the second convolutional layer is connected only to neurons located within a small rectangle in the first layer.\n",
    "\n",
    "![Convolutional_layers](Convolutional_layers.png)"
   ]
  },
  {
   "cell_type": "markdown",
   "metadata": {},
   "source": [
    "A neuron located in row *i*, column *j* of a given layer is connected to the outputs of the neurons in the previous layer located in rows *i* --> *i + f_h - 1*, columns *j* --> *j + f_w - 1*, where *f_h* and *f_w* are the height and width of the receptive field. **(no strides)**\n",
    "\n",
    "*Zero padding*: In order for a layer to have the same height and width as the previous layer, it is common to add zeros around the inputs.\n",
    "\n",
    "![Layers_connnection_zero_padding](Layers_connection_zero_padding.png)"
   ]
  },
  {
   "cell_type": "markdown",
   "metadata": {},
   "source": [
    "It's also possible to connect a large input layer to a much smaller layer by *spacing out the receptive fields* --> dramatically reduces the model's computational complexity. The shift from one receptive field to the next is called *the stride*.\n",
    "\n",
    "A neuron located in row *i*, column *j* in the upper layer is connected to the outputs of the neurons in the previous layer located in row *i * s_h* --> *i * s_h + f_h - 1*, columns *j * s_w* --> *j * s_w + f_w - 1*, where *s_h* and *s_w* are the vertical and horizontal strides.\n",
    "\n",
    "![Dimensionality_reduce_with_stride_2](Dimensionality_reduce_with_stride_2.png)"
   ]
  },
  {
   "cell_type": "markdown",
   "metadata": {},
   "source": [
    "## Filters\n"
   ]
  },
  {
   "cell_type": "markdown",
   "metadata": {},
   "source": [
    "A neuron's weights can be represented as a small image the size of the receptive field (the picture below shows two possible sets of weights, called *filters* (or *convolutional layers*))\n",
    "\n",
    "![2_sets_of_filters](2_sets_of_filters.png)\n",
    "\n",
    "A layer full of neurons using the same filter outputs a *feature map*, which highlights the areas in an image that activate the filter the most"
   ]
  },
  {
   "cell_type": "markdown",
   "metadata": {},
   "source": []
  }
 ],
 "metadata": {
  "language_info": {
   "name": "python"
  },
  "orig_nbformat": 4
 },
 "nbformat": 4,
 "nbformat_minor": 2
}
